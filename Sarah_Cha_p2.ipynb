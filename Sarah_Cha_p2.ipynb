{
 "cells": [
  {
   "cell_type": "markdown",
   "metadata": {},
   "source": [
    "# Project 2: Topic Classification"
   ]
  },
  {
   "cell_type": "markdown",
   "metadata": {},
   "source": [
    "In this project, you'll work with text data from newsgroup postings on a variety of topics. You'll train classifiers to distinguish between the topics based on the text of the posts. Whereas with digit classification, the input is relatively dense: a 28x28 matrix of pixels, many of which are non-zero, here we'll represent each document with a \"bag-of-words\" model. As you'll see, this makes the feature representation quite sparse -- only a few words of the total vocabulary are active in any given document. The bag-of-words assumption here is that the label depends only on the words; their order is not important.\n",
    "\n",
    "The SK-learn documentation on feature extraction will prove useful:\n",
    "http://scikit-learn.org/stable/modules/feature_extraction.html\n",
    "\n",
    "Each problem can be addressed succinctly with the included packages -- please don't add any more. Grading will be based on writing clean, commented code, along with a few short answers.\n",
    "\n",
    "As always, you're welcome to work on the project in groups and discuss ideas on the course wall, but please prepare your own write-up and write your own code."
   ]
  },
  {
   "cell_type": "markdown",
   "metadata": {},
   "source": [
    "call metrics e.g. f1_score(XYZ)\n",
    "attributes -- classifier.attribute -- clf3.coef_\n",
    "methods e.g. predict -- clf3.predict(dev_data_counts)"
   ]
  },
  {
   "cell_type": "code",
   "execution_count": 1,
   "metadata": {
    "collapsed": false
   },
   "outputs": [
    {
     "name": "stderr",
     "output_type": "stream",
     "text": [
      "/Users/sarahcha/anaconda3/lib/python3.5/site-packages/sklearn/cross_validation.py:44: DeprecationWarning: This module was deprecated in version 0.18 in favor of the model_selection module into which all the refactored classes and functions are moved. Also note that the interface of the new CV iterators are different from that of this module. This module will be removed in 0.20.\n",
      "  \"This module will be removed in 0.20.\", DeprecationWarning)\n",
      "/Users/sarahcha/anaconda3/lib/python3.5/site-packages/sklearn/grid_search.py:43: DeprecationWarning: This module was deprecated in version 0.18 in favor of the model_selection module into which all the refactored classes and functions are moved. This module will be removed in 0.20.\n",
      "  DeprecationWarning)\n"
     ]
    }
   ],
   "source": [
    "# This tells matplotlib not to try opening a new window for each plot.\n",
    "%matplotlib inline\n",
    "\n",
    "# General libraries.\n",
    "import re\n",
    "import numpy as np\n",
    "import matplotlib.pyplot as plt\n",
    "\n",
    "# SK-learn libraries for learning.\n",
    "from sklearn.pipeline import Pipeline\n",
    "from sklearn.neighbors import KNeighborsClassifier\n",
    "from sklearn.linear_model import LogisticRegression\n",
    "from sklearn.naive_bayes import BernoulliNB\n",
    "from sklearn.naive_bayes import MultinomialNB\n",
    "from sklearn.grid_search import GridSearchCV\n",
    "\n",
    "# SK-learn libraries for evaluation.\n",
    "from sklearn.metrics import confusion_matrix\n",
    "from sklearn import metrics\n",
    "from sklearn.metrics import classification_report\n",
    "\n",
    "# SK-learn library for importing the newsgroup data.\n",
    "from sklearn.datasets import fetch_20newsgroups\n",
    "\n",
    "# SK-learn libraries for feature extraction from text.\n",
    "from sklearn.feature_extraction.text import *"
   ]
  },
  {
   "cell_type": "markdown",
   "metadata": {},
   "source": [
    "Load the data, stripping out metadata so that we learn classifiers that only use textual features. By default, newsgroups data is split into train and test sets. We further split the test so we have a dev set. Note that we specify 4 categories to use for this project. If you remove the categories argument from the fetch function, you'll get all 20 categories."
   ]
  },
  {
   "cell_type": "code",
   "execution_count": 129,
   "metadata": {
    "collapsed": false
   },
   "outputs": [
    {
     "name": "stdout",
     "output_type": "stream",
     "text": [
      "training label shape: (2034,)\n",
      "test label shape: (677,)\n",
      "dev label shape: (676,)\n",
      "labels names: ['alt.atheism', 'comp.graphics', 'sci.space', 'talk.religion.misc']\n"
     ]
    }
   ],
   "source": [
    "categories = ['alt.atheism', 'talk.religion.misc', 'comp.graphics', 'sci.space']\n",
    "newsgroups_train = fetch_20newsgroups(subset='train',\n",
    "                                      remove=('headers', 'footers', 'quotes'),\n",
    "                                      categories=categories)\n",
    "newsgroups_test = fetch_20newsgroups(subset='test',\n",
    "                                     remove=('headers', 'footers', 'quotes'),\n",
    "                                     categories=categories)\n",
    "\n",
    "num_test = len(newsgroups_test.target)\n",
    "test_data, test_labels = newsgroups_test.data[num_test//2:], newsgroups_test.target[num_test//2:]\n",
    "dev_data, dev_labels = newsgroups_test.data[:num_test//2], newsgroups_test.target[:num_test//2]\n",
    "train_data, train_labels = newsgroups_train.data, newsgroups_train.target\n",
    "\n",
    "print ('training label shape:', train_labels.shape)\n",
    "print ('test label shape:', test_labels.shape)\n",
    "print ('dev label shape:', dev_labels.shape)\n",
    "print ('labels names:', newsgroups_train.target_names)"
   ]
  },
  {
   "cell_type": "markdown",
   "metadata": {},
   "source": [
    "(1) For each of the first 5 training examples, print the text of the message along with the label."
   ]
  },
  {
   "cell_type": "code",
   "execution_count": 33,
   "metadata": {
    "collapsed": false
   },
   "outputs": [
    {
     "data": {
      "text/plain": [
       "Counter({0: 480, 1: 584, 2: 593, 3: 377})"
      ]
     },
     "execution_count": 33,
     "metadata": {},
     "output_type": "execute_result"
    }
   ],
   "source": [
    "## checking distribution of classes\n",
    "\n",
    "import collections\n",
    "collections.Counter(train_labels)\n"
   ]
  },
  {
   "cell_type": "code",
   "execution_count": 3,
   "metadata": {
    "collapsed": false
   },
   "outputs": [
    {
     "name": "stdout",
     "output_type": "stream",
     "text": [
      "Example Number: 1\n",
      "Hi,\n",
      "\n",
      "I've noticed that if you only save a model (with all your mapping planes\n",
      "positioned carefully) to a .3DS file that when you reload it after restarting\n",
      "3DS, they are given a default position and orientation.  But if you save\n",
      "to a .PRJ file their positions/orientation are preserved.  Does anyone\n",
      "know why this information is not stored in the .3DS file?  Nothing is\n",
      "explicitly said in the manual about saving texture rules in the .PRJ file. \n",
      "I'd like to be able to read the texture rule information, does anyone have \n",
      "the format for the .PRJ file?\n",
      "\n",
      "Is the .CEL file format available from somewhere?\n",
      "\n",
      "Rych \n",
      "\n",
      "Training label: comp.graphics \n",
      "\n",
      "Example Number: 2\n",
      "\n",
      "\n",
      "Seems to be, barring evidence to the contrary, that Koresh was simply\n",
      "another deranged fanatic who thought it neccessary to take a whole bunch of\n",
      "folks with him, children and all, to satisfy his delusional mania. Jim\n",
      "Jones, circa 1993.\n",
      "\n",
      "\n",
      "Nope - fruitcakes like Koresh have been demonstrating such evil corruption\n",
      "for centuries. \n",
      "\n",
      "Training label: talk.religion.misc \n",
      "\n",
      "Example Number: 3\n",
      "\n",
      " >In article <1993Apr19.020359.26996@sq.sq.com>, msb@sq.sq.com (Mark Brader) \n",
      "\n",
      "MB>                                                             So the\n",
      "MB> 1970 figure seems unlikely to actually be anything but a perijove.\n",
      "\n",
      "JG>Sorry, _perijoves_...I'm not used to talking this language.\n",
      "\n",
      "Couldn't we just say periapsis or apoapsis?\n",
      "\n",
      "  \n",
      "\n",
      "Training label: sci.space \n",
      "\n",
      "Example Number: 4\n",
      "I have a request for those who would like to see Charley Wingate\n",
      "respond to the \"Charley Challenges\" (and judging from my e-mail, there\n",
      "appear to be quite a few of you.)  \n",
      "\n",
      "It is clear that Mr. Wingate intends to continue to post tangential or\n",
      "unrelated articles while ingoring the Challenges themselves.  Between\n",
      "the last two re-postings of the Challenges, I noted perhaps a dozen or\n",
      "more posts by Mr. Wingate, none of which answered a single Challenge.  \n",
      "\n",
      "It seems unmistakable to me that Mr. Wingate hopes that the questions\n",
      "will just go away, and he is doing his level best to change the\n",
      "subject.  Given that this seems a rather common net.theist tactic, I\n",
      "would like to suggest that we impress upon him our desire for answers,\n",
      "in the following manner:\n",
      "\n",
      "1. Ignore any future articles by Mr. Wingate that do not address the\n",
      "Challenges, until he answers them or explictly announces that he\n",
      "refuses to do so.\n",
      "\n",
      "--or--\n",
      "\n",
      "2. If you must respond to one of his articles, include within it\n",
      "something similar to the following:\n",
      "\n",
      "    \"Please answer the questions posed to you in the Charley Challenges.\"\n",
      "\n",
      "Really, I'm not looking to humiliate anyone here, I just want some\n",
      "honest answers.  You wouldn't think that honesty would be too much to\n",
      "ask from a devout Christian, would you?  \n",
      "\n",
      "Nevermind, that was a rhetorical question. \n",
      "\n",
      "Training label: alt.atheism \n",
      "\n",
      "Example Number: 5\n",
      "AW&ST  had a brief blurb on a Manned Lunar Exploration confernce\n",
      "May 7th  at Crystal City Virginia, under the auspices of AIAA.\n",
      "\n",
      "Does anyone know more about this?  How much, to attend????\n",
      "\n",
      "Anyone want to go? \n",
      "\n",
      "Training label: sci.space \n",
      "\n",
      "Example Number: 6\n",
      "\n",
      "There are definitely quite a few horrible deaths as the result of both\n",
      "atheists AND theists.  I'm sure Bobby can list quite a few for the atheist\n",
      "side but fails to recognize that the theists are equally proficient at\n",
      "genocide.  Perhaps, since I'm a bit weak on history, somone here would like\n",
      "to give a list of wars caused/led by theists?  I can think of a few (Hitler\n",
      "claimed to be a Christian for example) but a more complete list would\n",
      "probably be more effective in showing Bobby just how absurd his statement\n",
      "is.\n",
      "\n",
      "\n",
      "On a side note, I notice you always sign your posts \"Peace\".  Perhaps you\n",
      "should take your own advice and leave the atheists in peace with their\n",
      "beliefs?\n",
      "\n",
      "\n",
      "Nanci \n",
      "\n",
      "Training label: alt.atheism \n",
      "\n",
      "Example Number: 7\n",
      "Mark Prado\n",
      "  \n",
      "  \n",
      "Old pioneer song from the 1850's or so goes as follows:\n",
      "  \n",
      "  \"In a cavern, in a canyon,\n",
      "   Excavating for a mine,\n",
      "   Dwelt a miner, forty-niner,\n",
      "   And his daughter, CLEMENTINE\"\n",
      "  \n",
      "Chorus:\n",
      "  \"Oh my darling, Oh my darling,\n",
      "   Oh my darling Clementine.\n",
      "   You are lost and gone forever,\n",
      "   Oh my darling Clementine.\"\n",
      "  \n",
      " I've also had it explained (but not confirmed from a reliable data\n",
      "source) that CLEMENTINE is an acronym.  Something like Combined\n",
      "Lunar Elemental Mapper Experiment on Extended Non Terrestrial\n",
      "Intercept Near Earth.  Personally, I think that acronym was made up\n",
      "to fit the name (if it really is an acronym).\n",
      " ------------------------------------------------------------------\n",
      " Wales Larrison                           Space Technology Investor \n",
      "\n",
      "Training label: sci.space \n",
      "\n",
      "Example Number: 8\n",
      "\n",
      "Acorn Replay running on a 25MHz ARM 3 processor (the ARM 3 is about 20% slower\n",
      "than the ARM 6) does this in software (off a standard CD-ROM). 16 bit colour at\n",
      "about the same resolution (so what if the computer only has 8 bit colour\n",
      "support, real-time dithering too...). The 3D0/O is supposed to have a couple of\n",
      "DSPs - the ARM being used for housekeeping.\n",
      "\n",
      "\n",
      "A 25MHz ARM 6xx should clock around 20 ARM MIPS, say 18 flat out. Depends\n",
      "really on the surrounding system and whether you are talking ARM6x or ARM6xx\n",
      "(the latter has a cache, and so is essential to run at this kind of speed with\n",
      "slower memory).\n",
      "\n",
      "I'll stop saying things there 'cos I'll hopefully be working for ARM after\n",
      "graduation...\n",
      "\n",
      "Mike\n",
      "\n",
      "PS Don't pay heed to what reps from Philips say; if the 3D0/O doesn't beat the\n",
      "   pants off 3DI then I'll eat this postscript. \n",
      "\n",
      "Training label: comp.graphics \n",
      "\n",
      "Example Number: 9\n",
      "\n",
      "Their Hiten engineering-test mission spent a while in a highly eccentric\n",
      "Earth orbit doing lunar flybys, and then was inserted into lunar orbit\n",
      "using some very tricky gravity-assist-like maneuvering.  This meant that\n",
      "it would crash on the Moon eventually, since there is no such thing as\n",
      "a stable lunar orbit (as far as anyone knows), and I believe I recall\n",
      "hearing recently that it was about to happen. \n",
      "\n",
      "Training label: sci.space \n",
      "\n",
      "Example Number: 10\n",
      "I'm interested in find out what is involved in processing pairs of \n",
      "stereo photographs.  I have black-and-white photos and would like \n",
      "to obtain surface contours.\n",
      "\n",
      "I'd prefer to do the processing on an SGI, but would be interested\n",
      "in hearing what software/hardware is used for this type of\n",
      "image processing.\n",
      "\n",
      "Please email and/or post to comp.sys.sgi.graphics your responses.\n",
      "\n",
      "Thanks, \n",
      "\n",
      "Training label: comp.graphics \n",
      "\n"
     ]
    }
   ],
   "source": [
    "def P1(num_examples=10):\n",
    "    \n",
    "    for i in range(num_examples):\n",
    "        print('Example Number:', i+1)\n",
    "        print(train_data[i], '\\n')\n",
    "        print('Training label:', newsgroups_train.target_names[train_labels[i]], '\\n')\n",
    "P1()"
   ]
  },
  {
   "cell_type": "markdown",
   "metadata": {},
   "source": [
    "(2) Use CountVectorizer to turn the raw training text into feature vectors. You should use the fit_transform function, which makes 2 passes through the data: first it computes the vocabulary (\"fit\"), second it converts the raw text into feature vectors using the vocabulary (\"transform\").\n",
    "\n",
    "The vectorizer has a lot of options. To get familiar with some of them, write code to answer these questions:\n",
    "\n",
    "a. The output of the transform (also of fit_transform) is a sparse matrix: http://docs.scipy.org/doc/scipy-0.14.0/reference/generated/scipy.sparse.csr_matrix.html. What is the size of the vocabulary? What is the average number of non-zero features per example? What fraction of the entries in the matrix are non-zero? Hint: use \"nnz\" and \"shape\" attributes.\n",
    "\n",
    "b. What are the 0th and last feature strings (in alphabetical order)? Hint: use the vectorizer's get_feature_names function.\n",
    "\n",
    "c. Specify your own vocabulary with 4 words: [\"atheism\", \"graphics\", \"space\", \"religion\"]. Confirm the training vectors are appropriately shaped. Now what's the average number of non-zero features per example?\n",
    "\n",
    "d. Instead of extracting unigram word features, use \"analyzer\" and \"ngram_range\" to extract bigram and trigram character features. What size vocabulary does this yield?\n",
    "\n",
    "e. Use the \"min_df\" argument to prune words that appear in fewer than 10 documents. What size vocabulary does this yield?\n",
    "\n",
    "f. Using the standard CountVectorizer, what fraction of the words in the dev data are missing from the vocabulary? Hint: build a vocabulary for both train and dev and look at the size of the difference."
   ]
  },
  {
   "cell_type": "code",
   "execution_count": 4,
   "metadata": {
    "collapsed": false
   },
   "outputs": [],
   "source": [
    "#def P2():\n",
    "\n",
    "### STUDENT START ###\n",
    "count_vector = CountVectorizer()\n",
    "Train_data_counts = count_vector.fit_transform(train_data)\n",
    "\n",
    "### STUDENT END ###\n",
    "\n",
    "#P2()"
   ]
  },
  {
   "cell_type": "code",
   "execution_count": 5,
   "metadata": {
    "collapsed": false
   },
   "outputs": [
    {
     "name": "stdout",
     "output_type": "stream",
     "text": [
      "0.36%\n"
     ]
    }
   ],
   "source": [
    "##2a)\n",
    "##first calculate the total shape - # of words\n",
    "x = Train_data_counts.shape\n",
    "\n",
    "##then calculate # of non-zero words\n",
    "y = Train_data_counts.nnz\n",
    "\n",
    "## calculate fraction that is non-zero\n",
    "print('{:.2%}'.format(y/(x[0]*x[1])))"
   ]
  },
  {
   "cell_type": "code",
   "execution_count": 6,
   "metadata": {
    "collapsed": false
   },
   "outputs": [
    {
     "name": "stdout",
     "output_type": "stream",
     "text": [
      "00\n",
      "zyxel\n"
     ]
    }
   ],
   "source": [
    "##2b: What are the 0th and last feature strings (in alphabetical order)? \n",
    "##Hint: use the vectorizer's get_feature_names function.\n",
    "\n",
    "feature_names = count_vector.get_feature_names()\n",
    "#print 0th feature string\n",
    "print (sorted(feature_names)[0])\n",
    "#print last feature string\n",
    "print(sorted(feature_names)[-1])\n"
   ]
  },
  {
   "cell_type": "code",
   "execution_count": 121,
   "metadata": {
    "collapsed": false
   },
   "outputs": [
    {
     "name": "stdout",
     "output_type": "stream",
     "text": [
      "x: (2034, 4)\n",
      "546\n",
      "6.71%\n"
     ]
    }
   ],
   "source": [
    "##2c Specify your own vocabulary with 4 words: [\"atheism\", \"graphics\", \"space\", \"religion\"]. \n",
    "## Confirm the training vectors are appropriately shaped. Now what's the average number of non-zero features per example?\n",
    "\n",
    "vocab_sub = [\"atheism\", \"graphics\", \"space\", \"religion\"]\n",
    "\n",
    "##explicitly setting the vocabulary means no vocabulary is learned from the data\n",
    "count_vector2c = CountVectorizer(vocabulary = vocab_sub)\n",
    "Train_data_counts2c = count_vector2c.transform(train_data)\n",
    "\n",
    "##calculate counts\n",
    "x = Train_data_counts2c.shape\n",
    "print(\"x:\",x)\n",
    "## returns a 2034 x 4 vector which makes sense given our vocabulary that we fit to the vector was of length 4.\n",
    "\n",
    "##then calculate # of non-zero words\n",
    "y = Train_data_counts2c.nnz\n",
    "print(y)\n",
    "\n",
    "## calculate fraction that is non-zero\n",
    "per = y/(x[0]*x[1])\n",
    "print('{:.2%}'.format(per))\n"
   ]
  },
  {
   "cell_type": "code",
   "execution_count": 8,
   "metadata": {
    "collapsed": false
   },
   "outputs": [
    {
     "data": {
      "text/plain": [
       "(2034, 35478)"
      ]
     },
     "execution_count": 8,
     "metadata": {},
     "output_type": "execute_result"
    }
   ],
   "source": [
    "## 2d.Instead of extracting unigram word features, use \"analyzer\" and \"ngram_range\" to extract bigram and trigram character features. \n",
    "# What size vocabulary does this yield?\n",
    "count_vector_2d = CountVectorizer(analyzer=\"char\", ngram_range = (2,3))\n",
    "Train_data_counts_2d = count_vector_2d.fit_transform(train_data)\n",
    "Train_data_counts_2d.shape\n",
    "## allowing extraction of bigrams and trigrams increases the size of vocabulary to 537,462.\n"
   ]
  },
  {
   "cell_type": "code",
   "execution_count": 9,
   "metadata": {
    "collapsed": false
   },
   "outputs": [
    {
     "data": {
      "text/plain": [
       "(2034, 3064)"
      ]
     },
     "execution_count": 9,
     "metadata": {},
     "output_type": "execute_result"
    }
   ],
   "source": [
    "## 2e. Use the \"min_df\" argument to prune words that appear in fewer than 10 documents. \n",
    "## What size vocabulary does this yield?\n",
    "count_vector_2e = CountVectorizer(min_df = 10)\n",
    "Train_data_counts_2e = count_vector_2e.fit_transform(train_data)\n",
    "Train_data_counts_2e.shape"
   ]
  },
  {
   "cell_type": "code",
   "execution_count": 10,
   "metadata": {
    "collapsed": false
   },
   "outputs": [
    {
     "name": "stdout",
     "output_type": "stream",
     "text": [
      "Fraction of words in dev data missing:  24.79%\n"
     ]
    }
   ],
   "source": [
    "## f. Using the standard CountVectorizer, what fraction of the words in the dev data are missing from the vocabulary? \n",
    "## Hint: build a vocabulary for both train and dev and look at the size of the difference.\n",
    "\n",
    "count_vector_2f = CountVectorizer()\n",
    "Train_data_counts_2f = count_vector_2f.fit_transform(train_data)\n",
    "train_2f = count_vector_2f.get_feature_names()\n",
    "\n",
    "dev_count_vector_2f = CountVectorizer()\n",
    "dev_data_counts_2f = dev_count_vector_2f.fit_transform(dev_data)\n",
    "dev_features_2f = dev_count_vector_2f.get_feature_names()\n",
    "\n",
    "    \n",
    "missing = 0\n",
    "\n",
    "for a in dev_features_2f:\n",
    "    missing += 1.0*(a not in train_2f)\n",
    "    fraction_missing = 1.0* missing/len(dev_features_2f)\n",
    "\n",
    "print(\"Fraction of words in dev data missing: \",'{:.2%}'.format(fraction_missing))"
   ]
  },
  {
   "cell_type": "markdown",
   "metadata": {},
   "source": [
    "(3) Use the default CountVectorizer options and report the f1 score (use metrics.f1_score) for a k nearest neighbors classifier; find the optimal value for k. Also fit a Multinomial Naive Bayes model and find the optimal value for alpha. Finally, fit a logistic regression model and find the optimal value for the regularization strength C using l2 regularization. A few questions:\n",
    "\n",
    "a. Why doesn't nearest neighbors work well for this problem?\n",
    "\n",
    "b. Any ideas why logistic regression doesn't work as well as Naive Bayes?\n",
    "\n",
    "c. Logistic regression estimates a weight vector for each class, which you can access with the coef\\_ attribute. Output the sum of the squared weight values for each class for each setting of the C parameter. Briefly explain the relationship between the sum and the value of C."
   ]
  },
  {
   "cell_type": "code",
   "execution_count": 11,
   "metadata": {
    "collapsed": false
   },
   "outputs": [
    {
     "name": "stdout",
     "output_type": "stream",
     "text": [
      "k: 1 f1_score: 38.31%\n",
      "k: 2 f1_score: 39.64%\n",
      "k: 3 f1_score: 41.42%\n",
      "k: 4 f1_score: 39.50%\n",
      "k: 5 f1_score: 42.31%\n",
      "k: 6 f1_score: 44.23%\n",
      "k: 7 f1_score: 44.38%\n",
      "k: 8 f1_score: 44.08%\n",
      "k: 9 f1_score: 43.05%\n",
      "k: 10 f1_score: 42.16%\n",
      "k: 11 f1_score: 41.86%\n",
      "k: 12 f1_score: 41.42%\n",
      "k: 13 f1_score: 42.31%\n",
      "k: 14 f1_score: 42.16%\n"
     ]
    },
    {
     "data": {
      "image/png": "[encoded data removed]",
      "text/plain": [
       "<matplotlib.figure.Figure at 0x10e710208>"
      ]
     },
     "metadata": {},
     "output_type": "display_data"
    }
   ],
   "source": [
    "##Fitting to K-Nearest Neighbors\n",
    "\n",
    "def KNN_fit(train, trainlabels, dev, devlabels, k):\n",
    "    from sklearn.metrics import f1_score\n",
    "\n",
    "    count_vector_3 = CountVectorizer()\n",
    "    Train_data_counts_3 = count_vector_3.fit_transform(train)\n",
    "    dev_data_counts_3 = count_vector_3.transform(dev)\n",
    "    clf_3 = KNeighborsClassifier(n_neighbors = k).fit(Train_data_counts_3, trainlabels)\n",
    "    predicted = clf_3.predict(dev_data_counts_3)\n",
    "\n",
    "    score = f1_score(predicted, devlabels, average='micro')\n",
    "    #print(\"k =\", k, \"f1_score:\",'{:.2%}'.format(score))\n",
    "    return score\n",
    "\n",
    "for i in range(1,15):\n",
    "    run = KNN_fit(train_data, train_labels, dev_data, dev_labels, i)\n",
    "    print(\"k:\",i, \"f1_score:\", '{:.2%}'.format(run))\n",
    "    plt.plot(i, run, 'o', color =\"blue\")\n",
    "plt.show()\n",
    "\n",
    "\n",
    "#Answer to question 3a:\n",
    "#k = 7 is the optimal K. \n",
    "#KNN finds a predefined number of training samples closest in distance to the new point and predicts the label from these neighbors. \n",
    "#KNN doesn't work as well on this problem because we have so many features (dimensions). Further given that we are\n",
    "#trying to classify these training inputs into 4 distinct categories, only a small subset of\n",
    "# words actually matter -- KNN doesn't have a mechanism to weight the words by importance. "
   ]
  },
  {
   "cell_type": "code",
   "execution_count": 204,
   "metadata": {
    "collapsed": false
   },
   "outputs": [
    {
     "name": "stdout",
     "output_type": "stream",
     "text": [
      "score:  78.11%\n"
     ]
    },
    {
     "name": "stderr",
     "output_type": "stream",
     "text": [
      "/Users/sarahcha/anaconda3/lib/python3.5/site-packages/sklearn/naive_bayes.py:699: RuntimeWarning: divide by zero encountered in log\n",
      "  self.feature_log_prob_ = (np.log(smoothed_fc) -\n",
      "/Users/sarahcha/anaconda3/lib/python3.5/site-packages/sklearn/naive_bayes.py:699: RuntimeWarning: divide by zero encountered in log\n",
      "  self.feature_log_prob_ = (np.log(smoothed_fc) -\n",
      "/Users/sarahcha/anaconda3/lib/python3.5/site-packages/sklearn/naive_bayes.py:699: RuntimeWarning: divide by zero encountered in log\n",
      "  self.feature_log_prob_ = (np.log(smoothed_fc) -\n"
     ]
    },
    {
     "name": "stdout",
     "output_type": "stream",
     "text": [
      "optimal alpha:  {'alpha': 0.01}\n"
     ]
    }
   ],
   "source": [
    "##Fitting to Multinomial Naive Bayes\n",
    "from sklearn.metrics import f1_score\n",
    "\n",
    "count_vector_3b = CountVectorizer()\n",
    "Train_data_counts_3b = count_vector_3b.fit_transform(train_data)\n",
    "dev_data_counts_3b = count_vector_3b.transform(dev_data)\n",
    "clf_3b = MultinomialNB().fit(Train_data_counts_3b, train_labels)\n",
    "predicted = clf_3b.predict(dev_data_counts_3b)\n",
    "\n",
    "score = f1_score(predicted, dev_labels, average='micro')\n",
    "print(\"score: \",'{:.2%}'.format(score))\n",
    "##score = 78.11%\n",
    "\n",
    "\n",
    "###check for optimal alpha\n",
    "alphas = {'alpha': [0.0, 0.0001, 0.001, 0.01, 0.1, 0.5, 1.0, 2.0, 10.0]}\n",
    "\n",
    "#use GridSearchCV to find the best value for alpha\n",
    "clf = GridSearchCV(MultinomialNB(), alphas, scoring = 'accuracy')\n",
    "clf.fit(Train_data_counts_3b, train_labels).predict(dev_data_counts_3b)\n",
    "print(\"optimal alpha: \",clf.best_params_)\n",
    "### optimal alpha = 0.01"
   ]
  },
  {
   "cell_type": "code",
   "execution_count": 211,
   "metadata": {
    "collapsed": false
   },
   "outputs": [
    {
     "name": "stdout",
     "output_type": "stream",
     "text": [
      "Score:  69.97%\n",
      "optimal C:  {'C': 0.2}\n"
     ]
    }
   ],
   "source": [
    "##Fitting to Logistic regression classifier\n",
    "from sklearn.metrics import f1_score\n",
    "\n",
    "count_vector_3c = CountVectorizer()\n",
    "Train_data_counts_3c = count_vector_3c.fit_transform(train_data)\n",
    "dev_data_counts_3c = count_vector_3c.transform(dev_data)\n",
    "features_3c = count_vector_3c.get_feature_names()\n",
    "\n",
    "clf_3c = LogisticRegression(solver = 'newton-cg').fit(Train_data_counts_3c, train_labels)\n",
    "predicted = clf_3c.predict(dev_data_counts_3c)\n",
    "\n",
    "score_3c = f1_score(predicted, dev_labels, average='micro')\n",
    "print(\"Score: \",'{:.2%}'.format(score_3c))\n",
    "\n",
    "###check for optimal C\n",
    "C_val = {'C': [0.0001, 0.001, 0.01, 0.1, 0.2, 0.3, 0.4, 0.5, 1.0, 2.0, 10.0]}\n",
    "\n",
    "#use GridSearchCV to find the best value for alpha\n",
    "clf_3c2 = GridSearchCV(LogisticRegression(), C_val, scoring = 'accuracy')\n",
    "clf_3c2.fit(Train_data_counts_3c, train_labels).predict(dev_data_counts_3c)\n",
    "print(\"optimal C: \",clf_3c2.best_params_)\n",
    "\n",
    "\n",
    "#b. Any ideas why logistic regression doesn't work as well as Naive Bayes?\n",
    "# Logistic regression is essentially a neural network with no hidden layer. This means that with no non-linear activation\n",
    "# function, it can only make linear decisions. This doesn't lend well to this to problem of classifying into genres \n",
    "# based on text data which is a non-linear decision. "
   ]
  },
  {
   "cell_type": "code",
   "execution_count": 18,
   "metadata": {
    "collapsed": false
   },
   "outputs": [
    {
     "name": "stdout",
     "output_type": "stream",
     "text": [
      "C= 0.01\n",
      "['2.45', '2.98', '2.82', '2.03']\n",
      "C= 0.1\n",
      "['27.17', '24.76', '27.53', '22.90']\n",
      "C= 0.5\n",
      "['102.81', '83.20', '99.18', '89.01']\n",
      "C= 1\n",
      "['167.24', '130.95', '158.10', '145.76']\n",
      "C= 5\n",
      "['423.07', '322.58', '389.81', '377.74']\n"
     ]
    }
   ],
   "source": [
    "#3c. Logistic regression estimates a weight vector for each class, which you can access with the\n",
    "#coef_ attribute. Output the sum of the squared weight values for each class for each setting \n",
    "#of the C parameter. Briefly explain the relationship between the sum and the value of C.\n",
    "\n",
    "C_val = [0.01, 0.1, 0.5, 1, 5]\n",
    "for i in C_val:\n",
    "    clf3 = LogisticRegression(solver = 'newton-cg', C=i).fit(Train_data_counts_3c, train_labels)\n",
    "    sq_weight_vector = clf3.coef_**2\n",
    "    sum_sq_weights = ['{:.2f}'.format(sum(i)) for i in sq_weight_vector]\n",
    "    print (\"C=\", i)\n",
    "    print(sum_sq_weights)\n",
    "\n",
    "## C is the inverse of regularization strength. In other words, smaller values of C mean higher\n",
    "# levels of regularization. This means that some of the coefficients are set to very low levels\n",
    "# when higher levels of regularization is specified. This is commensurate with lower\n",
    "# sum of squared weight values of coefficients for each class with C is lower. "
   ]
  },
  {
   "cell_type": "markdown",
   "metadata": {},
   "source": [
    "ANSWER:"
   ]
  },
  {
   "cell_type": "markdown",
   "metadata": {},
   "source": [
    "(4) Train a logistic regression model. Find the 5 features with the largest weights for each label -- 20 features in total. Create a table with 20 rows and 4 columns that shows the weight for each of these features for each of the labels. Create the table again with bigram features. Any surprising features in this table?"
   ]
  },
  {
   "cell_type": "code",
   "execution_count": 208,
   "metadata": {
    "collapsed": false
   },
   "outputs": [
    {
     "data": {
      "text/html": [
       "<div>\n",
       "<table border=\"1\" class=\"dataframe\">\n",
       "  <thead>\n",
       "    <tr style=\"text-align: right;\">\n",
       "      <th></th>\n",
       "      <th>0</th>\n",
       "      <th>1</th>\n",
       "      <th>2</th>\n",
       "      <th>3</th>\n",
       "      <th>4</th>\n",
       "    </tr>\n",
       "  </thead>\n",
       "  <tbody>\n",
       "    <tr>\n",
       "      <th>0</th>\n",
       "      <td>bobby</td>\n",
       "      <td>0.62</td>\n",
       "      <td>-0.15</td>\n",
       "      <td>-0.22</td>\n",
       "      <td>-0.29</td>\n",
       "    </tr>\n",
       "    <tr>\n",
       "      <th>1</th>\n",
       "      <td>atheism</td>\n",
       "      <td>0.62</td>\n",
       "      <td>-0.27</td>\n",
       "      <td>-0.27</td>\n",
       "      <td>-0.31</td>\n",
       "    </tr>\n",
       "    <tr>\n",
       "      <th>2</th>\n",
       "      <td>religion</td>\n",
       "      <td>0.62</td>\n",
       "      <td>-0.38</td>\n",
       "      <td>-0.5</td>\n",
       "      <td>-0.02</td>\n",
       "    </tr>\n",
       "    <tr>\n",
       "      <th>3</th>\n",
       "      <td>atheists</td>\n",
       "      <td>0.61</td>\n",
       "      <td>-0.09</td>\n",
       "      <td>-0.2</td>\n",
       "      <td>-0.42</td>\n",
       "    </tr>\n",
       "    <tr>\n",
       "      <th>4</th>\n",
       "      <td>islam</td>\n",
       "      <td>0.53</td>\n",
       "      <td>-0.09</td>\n",
       "      <td>-0.21</td>\n",
       "      <td>-0.21</td>\n",
       "    </tr>\n",
       "    <tr>\n",
       "      <th>5</th>\n",
       "      <td>graphics</td>\n",
       "      <td>-0.5</td>\n",
       "      <td>1.26</td>\n",
       "      <td>-0.83</td>\n",
       "      <td>-0.47</td>\n",
       "    </tr>\n",
       "    <tr>\n",
       "      <th>6</th>\n",
       "      <td>image</td>\n",
       "      <td>-0.34</td>\n",
       "      <td>0.83</td>\n",
       "      <td>-0.49</td>\n",
       "      <td>-0.28</td>\n",
       "    </tr>\n",
       "    <tr>\n",
       "      <th>7</th>\n",
       "      <td>file</td>\n",
       "      <td>-0.21</td>\n",
       "      <td>0.81</td>\n",
       "      <td>-0.53</td>\n",
       "      <td>-0.37</td>\n",
       "    </tr>\n",
       "    <tr>\n",
       "      <th>8</th>\n",
       "      <td>3d</td>\n",
       "      <td>-0.23</td>\n",
       "      <td>0.71</td>\n",
       "      <td>-0.41</td>\n",
       "      <td>-0.24</td>\n",
       "    </tr>\n",
       "    <tr>\n",
       "      <th>9</th>\n",
       "      <td>computer</td>\n",
       "      <td>0.0</td>\n",
       "      <td>0.68</td>\n",
       "      <td>-0.43</td>\n",
       "      <td>-0.29</td>\n",
       "    </tr>\n",
       "    <tr>\n",
       "      <th>10</th>\n",
       "      <td>space</td>\n",
       "      <td>-0.82</td>\n",
       "      <td>-0.88</td>\n",
       "      <td>1.51</td>\n",
       "      <td>-0.74</td>\n",
       "    </tr>\n",
       "    <tr>\n",
       "      <th>11</th>\n",
       "      <td>orbit</td>\n",
       "      <td>-0.27</td>\n",
       "      <td>-0.42</td>\n",
       "      <td>0.76</td>\n",
       "      <td>-0.35</td>\n",
       "    </tr>\n",
       "    <tr>\n",
       "      <th>12</th>\n",
       "      <td>nasa</td>\n",
       "      <td>-0.35</td>\n",
       "      <td>-0.32</td>\n",
       "      <td>0.66</td>\n",
       "      <td>-0.32</td>\n",
       "    </tr>\n",
       "    <tr>\n",
       "      <th>13</th>\n",
       "      <td>launch</td>\n",
       "      <td>-0.27</td>\n",
       "      <td>-0.31</td>\n",
       "      <td>0.6</td>\n",
       "      <td>-0.21</td>\n",
       "    </tr>\n",
       "    <tr>\n",
       "      <th>14</th>\n",
       "      <td>spacecraft</td>\n",
       "      <td>-0.22</td>\n",
       "      <td>-0.24</td>\n",
       "      <td>0.52</td>\n",
       "      <td>-0.2</td>\n",
       "    </tr>\n",
       "    <tr>\n",
       "      <th>15</th>\n",
       "      <td>christian</td>\n",
       "      <td>-0.34</td>\n",
       "      <td>-0.25</td>\n",
       "      <td>-0.22</td>\n",
       "      <td>0.7</td>\n",
       "    </tr>\n",
       "    <tr>\n",
       "      <th>16</th>\n",
       "      <td>christians</td>\n",
       "      <td>-0.44</td>\n",
       "      <td>-0.22</td>\n",
       "      <td>-0.28</td>\n",
       "      <td>0.67</td>\n",
       "    </tr>\n",
       "    <tr>\n",
       "      <th>17</th>\n",
       "      <td>blood</td>\n",
       "      <td>-0.3</td>\n",
       "      <td>-0.08</td>\n",
       "      <td>-0.14</td>\n",
       "      <td>0.6</td>\n",
       "    </tr>\n",
       "    <tr>\n",
       "      <th>18</th>\n",
       "      <td>fbi</td>\n",
       "      <td>-0.17</td>\n",
       "      <td>-0.15</td>\n",
       "      <td>-0.28</td>\n",
       "      <td>0.56</td>\n",
       "    </tr>\n",
       "    <tr>\n",
       "      <th>19</th>\n",
       "      <td>order</td>\n",
       "      <td>-0.47</td>\n",
       "      <td>-0.05</td>\n",
       "      <td>-0.1</td>\n",
       "      <td>0.55</td>\n",
       "    </tr>\n",
       "  </tbody>\n",
       "</table>\n",
       "</div>"
      ],
      "text/plain": [
       "             0      1      2      3      4\n",
       "0        bobby   0.62  -0.15  -0.22  -0.29\n",
       "1      atheism   0.62  -0.27  -0.27  -0.31\n",
       "2     religion   0.62  -0.38   -0.5  -0.02\n",
       "3     atheists   0.61  -0.09   -0.2  -0.42\n",
       "4        islam   0.53  -0.09  -0.21  -0.21\n",
       "5     graphics   -0.5   1.26  -0.83  -0.47\n",
       "6        image  -0.34   0.83  -0.49  -0.28\n",
       "7         file  -0.21   0.81  -0.53  -0.37\n",
       "8           3d  -0.23   0.71  -0.41  -0.24\n",
       "9     computer    0.0   0.68  -0.43  -0.29\n",
       "10       space  -0.82  -0.88   1.51  -0.74\n",
       "11       orbit  -0.27  -0.42   0.76  -0.35\n",
       "12        nasa  -0.35  -0.32   0.66  -0.32\n",
       "13      launch  -0.27  -0.31    0.6  -0.21\n",
       "14  spacecraft  -0.22  -0.24   0.52   -0.2\n",
       "15   christian  -0.34  -0.25  -0.22    0.7\n",
       "16  christians  -0.44  -0.22  -0.28   0.67\n",
       "17       blood   -0.3  -0.08  -0.14    0.6\n",
       "18         fbi  -0.17  -0.15  -0.28   0.56\n",
       "19       order  -0.47  -0.05   -0.1   0.55"
      ]
     },
     "execution_count": 208,
     "metadata": {},
     "output_type": "execute_result"
    }
   ],
   "source": [
    "#def P4():\n",
    "def fit_lr(train, trainlabels, dev, devlabels):\n",
    "    import pandas as pd\n",
    "    \n",
    "    count_vector_4= CountVectorizer()\n",
    "    Train_data_counts_4= count_vector_4.fit_transform(train)\n",
    "    dev_data_counts_4 = count_vector_4.transform(dev)\n",
    "    clf_4 = LogisticRegression(C = 0.2).fit(Train_data_counts_4, trainlabels)\n",
    "    predicted = clf_4.predict(dev_data_counts_4)\n",
    "\n",
    "    weight_matrix = clf_4.coef_\n",
    "    feature_names = count_vector_4.get_feature_names()\n",
    "    feature_selection = []\n",
    "    for i in weight_matrix:\n",
    "        max_scores = np.argsort(np.array(i))[-5:][::-1]\n",
    "        features = [feature_names[x] for x in max_scores]\n",
    "        feature_selection.append(features)\n",
    "    fs = np.array(feature_selection).flatten()\n",
    "    count = np.zeros([20, 4])\n",
    "    for r in range(count.shape[0]):\n",
    "        for c in range(count.shape[1]):\n",
    "            count[r, c] += round(weight_matrix[c][feature_names.index(fs[r])],2)\n",
    "    fs = fs[:, np.newaxis]\n",
    "    s = np.concatenate((fs, count), axis =1)\n",
    "    pd_key_feats= pd.DataFrame(s)\n",
    "    return pd_key_feats\n",
    "\n",
    "fit_lr(train_data, train_labels, dev_data, dev_labels)"
   ]
  },
  {
   "cell_type": "code",
   "execution_count": 209,
   "metadata": {
    "collapsed": false
   },
   "outputs": [
    {
     "data": {
      "text/html": [
       "<div>\n",
       "<table border=\"1\" class=\"dataframe\">\n",
       "  <thead>\n",
       "    <tr style=\"text-align: right;\">\n",
       "      <th></th>\n",
       "      <th>0</th>\n",
       "      <th>1</th>\n",
       "      <th>2</th>\n",
       "      <th>3</th>\n",
       "      <th>4</th>\n",
       "    </tr>\n",
       "  </thead>\n",
       "  <tbody>\n",
       "    <tr>\n",
       "      <th>0</th>\n",
       "      <td>cheers kent</td>\n",
       "      <td>0.42</td>\n",
       "      <td>-0.5</td>\n",
       "      <td>-0.48</td>\n",
       "      <td>0.42</td>\n",
       "    </tr>\n",
       "    <tr>\n",
       "      <th>1</th>\n",
       "      <td>claim that</td>\n",
       "      <td>0.4</td>\n",
       "      <td>-0.14</td>\n",
       "      <td>-0.19</td>\n",
       "      <td>-0.08</td>\n",
       "    </tr>\n",
       "    <tr>\n",
       "      <th>2</th>\n",
       "      <td>in this</td>\n",
       "      <td>0.36</td>\n",
       "      <td>-0.01</td>\n",
       "      <td>-0.37</td>\n",
       "      <td>-0.09</td>\n",
       "    </tr>\n",
       "    <tr>\n",
       "      <th>3</th>\n",
       "      <td>is not</td>\n",
       "      <td>0.35</td>\n",
       "      <td>-0.18</td>\n",
       "      <td>-0.35</td>\n",
       "      <td>0.03</td>\n",
       "    </tr>\n",
       "    <tr>\n",
       "      <th>4</th>\n",
       "      <td>are you</td>\n",
       "      <td>0.35</td>\n",
       "      <td>-0.19</td>\n",
       "      <td>-0.09</td>\n",
       "      <td>-0.21</td>\n",
       "    </tr>\n",
       "    <tr>\n",
       "      <th>5</th>\n",
       "      <td>looking for</td>\n",
       "      <td>-0.48</td>\n",
       "      <td>0.85</td>\n",
       "      <td>-0.37</td>\n",
       "      <td>-0.42</td>\n",
       "    </tr>\n",
       "    <tr>\n",
       "      <th>6</th>\n",
       "      <td>in advance</td>\n",
       "      <td>-0.36</td>\n",
       "      <td>0.65</td>\n",
       "      <td>-0.33</td>\n",
       "      <td>-0.32</td>\n",
       "    </tr>\n",
       "    <tr>\n",
       "      <th>7</th>\n",
       "      <td>out there</td>\n",
       "      <td>-0.22</td>\n",
       "      <td>0.59</td>\n",
       "      <td>-0.36</td>\n",
       "      <td>-0.21</td>\n",
       "    </tr>\n",
       "    <tr>\n",
       "      <th>8</th>\n",
       "      <td>is there</td>\n",
       "      <td>-0.24</td>\n",
       "      <td>0.55</td>\n",
       "      <td>-0.35</td>\n",
       "      <td>-0.17</td>\n",
       "    </tr>\n",
       "    <tr>\n",
       "      <th>9</th>\n",
       "      <td>comp graphics</td>\n",
       "      <td>-0.2</td>\n",
       "      <td>0.54</td>\n",
       "      <td>-0.27</td>\n",
       "      <td>-0.18</td>\n",
       "    </tr>\n",
       "    <tr>\n",
       "      <th>10</th>\n",
       "      <td>the moon</td>\n",
       "      <td>-0.28</td>\n",
       "      <td>-0.39</td>\n",
       "      <td>0.68</td>\n",
       "      <td>-0.18</td>\n",
       "    </tr>\n",
       "    <tr>\n",
       "      <th>11</th>\n",
       "      <td>the space</td>\n",
       "      <td>-0.21</td>\n",
       "      <td>-0.39</td>\n",
       "      <td>0.67</td>\n",
       "      <td>-0.21</td>\n",
       "    </tr>\n",
       "    <tr>\n",
       "      <th>12</th>\n",
       "      <td>sci space</td>\n",
       "      <td>-0.19</td>\n",
       "      <td>-0.26</td>\n",
       "      <td>0.47</td>\n",
       "      <td>-0.16</td>\n",
       "    </tr>\n",
       "    <tr>\n",
       "      <th>13</th>\n",
       "      <td>and such</td>\n",
       "      <td>-0.16</td>\n",
       "      <td>-0.26</td>\n",
       "      <td>0.46</td>\n",
       "      <td>-0.17</td>\n",
       "    </tr>\n",
       "    <tr>\n",
       "      <th>14</th>\n",
       "      <td>it was</td>\n",
       "      <td>-0.14</td>\n",
       "      <td>-0.24</td>\n",
       "      <td>0.41</td>\n",
       "      <td>-0.22</td>\n",
       "    </tr>\n",
       "    <tr>\n",
       "      <th>15</th>\n",
       "      <td>cheers kent</td>\n",
       "      <td>0.42</td>\n",
       "      <td>-0.5</td>\n",
       "      <td>-0.48</td>\n",
       "      <td>0.42</td>\n",
       "    </tr>\n",
       "    <tr>\n",
       "      <th>16</th>\n",
       "      <td>the fbi</td>\n",
       "      <td>-0.09</td>\n",
       "      <td>-0.15</td>\n",
       "      <td>-0.22</td>\n",
       "      <td>0.42</td>\n",
       "    </tr>\n",
       "    <tr>\n",
       "      <th>17</th>\n",
       "      <td>with you</td>\n",
       "      <td>-0.16</td>\n",
       "      <td>0.04</td>\n",
       "      <td>-0.25</td>\n",
       "      <td>0.34</td>\n",
       "    </tr>\n",
       "    <tr>\n",
       "      <th>18</th>\n",
       "      <td>but he</td>\n",
       "      <td>-0.12</td>\n",
       "      <td>-0.15</td>\n",
       "      <td>-0.09</td>\n",
       "      <td>0.34</td>\n",
       "    </tr>\n",
       "    <tr>\n",
       "      <th>19</th>\n",
       "      <td>the word</td>\n",
       "      <td>0.05</td>\n",
       "      <td>-0.19</td>\n",
       "      <td>-0.2</td>\n",
       "      <td>0.32</td>\n",
       "    </tr>\n",
       "  </tbody>\n",
       "</table>\n",
       "</div>"
      ],
      "text/plain": [
       "                0      1      2      3      4\n",
       "0     cheers kent   0.42   -0.5  -0.48   0.42\n",
       "1      claim that    0.4  -0.14  -0.19  -0.08\n",
       "2         in this   0.36  -0.01  -0.37  -0.09\n",
       "3          is not   0.35  -0.18  -0.35   0.03\n",
       "4         are you   0.35  -0.19  -0.09  -0.21\n",
       "5     looking for  -0.48   0.85  -0.37  -0.42\n",
       "6      in advance  -0.36   0.65  -0.33  -0.32\n",
       "7       out there  -0.22   0.59  -0.36  -0.21\n",
       "8        is there  -0.24   0.55  -0.35  -0.17\n",
       "9   comp graphics   -0.2   0.54  -0.27  -0.18\n",
       "10       the moon  -0.28  -0.39   0.68  -0.18\n",
       "11      the space  -0.21  -0.39   0.67  -0.21\n",
       "12      sci space  -0.19  -0.26   0.47  -0.16\n",
       "13       and such  -0.16  -0.26   0.46  -0.17\n",
       "14         it was  -0.14  -0.24   0.41  -0.22\n",
       "15    cheers kent   0.42   -0.5  -0.48   0.42\n",
       "16        the fbi  -0.09  -0.15  -0.22   0.42\n",
       "17       with you  -0.16   0.04  -0.25   0.34\n",
       "18         but he  -0.12  -0.15  -0.09   0.34\n",
       "19       the word   0.05  -0.19   -0.2   0.32"
      ]
     },
     "execution_count": 209,
     "metadata": {},
     "output_type": "execute_result"
    }
   ],
   "source": [
    "def bigram_compare(train, trainlabels, dev, devlabels):\n",
    "\n",
    "    import pandas as pd\n",
    "\n",
    "    #transform text into feature vector\n",
    "    count_vector_4b = CountVectorizer(analyzer=\"word\", ngram_range = (2,2))\n",
    "    Train_data_counts_4b = count_vector_4b.fit_transform(train)\n",
    "    dev_data_counts_4b = count_vector_4b.transform(dev)\n",
    "\n",
    "    #fit data to logistic regression classifier\n",
    "    clf_4b = LogisticRegression(C=0.2).fit(Train_data_counts_4b, trainlabels)\n",
    "\n",
    "    #find the highest weights by class\n",
    "    weight_matrix = clf_4b.coef_\n",
    "    feature_names = count_vector_4b.get_feature_names()\n",
    "    feature_selection = []\n",
    "    for i in weight_matrix:\n",
    "        max_scores = np.argsort(np.array(i))[-5:][::-1]\n",
    "        features = [feature_names[x] for x in max_scores]\n",
    "        feature_selection.append(features)\n",
    "    fs = np.array(feature_selection).flatten()\n",
    "    count = np.zeros([20, 4])\n",
    "\n",
    "    #create matrix of the top 20 names\n",
    "    for rows in range(count.shape[0]):\n",
    "        for cols in range(count.shape[1]):\n",
    "            count[rows, cols] += round(weight_matrix[cols][feature_names.index(fs[rows])],2)\n",
    "\n",
    "    fs = fs[:, np.newaxis]\n",
    "    s = np.concatenate((fs, count), axis =1)\n",
    "    pd_key_feats= pd.DataFrame(s)\n",
    "\n",
    "    return pd_key_feats\n",
    "  \n",
    "bigram_compare(train_data, train_labels, dev_data, dev_labels)"
   ]
  },
  {
   "cell_type": "markdown",
   "metadata": {},
   "source": [
    "(5) Try to improve the logistic regression classifier by passing a custom preprocessor to CountVectorizer. The preprocessing function runs on the raw text, before it is split into words by the tokenizer. Your preprocessor should try to normalize the input in various ways to improve generalization. For example, try lowercasing everything, replacing sequences of numbers with a single token, removing various other non-letter characters, and shortening long words. If you're not already familiar with regular expressions for manipulating strings, see https://docs.python.org/2/library/re.html, and re.sub() in particular. With your new preprocessor, how much did you reduce the size of the dictionary?\n",
    "\n",
    "For reference, I was able to improve dev F1 by 2 points."
   ]
  },
  {
   "cell_type": "code",
   "execution_count": 90,
   "metadata": {
    "collapsed": false
   },
   "outputs": [
    {
     "name": "stdout",
     "output_type": "stream",
     "text": [
      "sarah sarah abc\n"
     ]
    }
   ],
   "source": [
    "source = \"sarah sarah sarasdfja029309428fsdfsfsh\"\n",
    "compiled = re.compile(r'\\b\\w{20,}')\n",
    "m = compiled.sub('abc', source)\n",
    "print(m)"
   ]
  },
  {
   "cell_type": "code",
   "execution_count": 25,
   "metadata": {
    "collapsed": false
   },
   "outputs": [
    {
     "name": "stdout",
     "output_type": "stream",
     "text": [
      "you are you are leash\n"
     ]
    }
   ],
   "source": [
    "source2 = \"you're you're leash\"\n",
    "compiled2 = re.compile(r'\\'re*')\n",
    "m = compiled2.sub(\" are\", source2)\n",
    "print(m)"
   ]
  },
  {
   "cell_type": "markdown",
   "metadata": {},
   "source": [
    "I am pleased to announce that a *revised version* of _The Easy-to-Read Book\\nof Mormon_ (former title: _Mormon\\'s Book_) by Lynn Matthews Anderson is now\\navailable through anonymous ftp (see information below). In addition to the\\nchange in title, the revised ETR BOM has been shortened by several pages\\n(eliminating many extraneous \"that\\'s\" and \"of\\'s\"), and many (minor) errors\\nhave been corrected. This release includes a simplified Joseph Smith Story,\\ntestimonies of the three and eight witnesses, and a \"Words-to-Know\"\\nglossary.\\n\\nAs with the previous announcement, readers are reminded that this is a\\nnot-for-profit endeavor. This is a copyrighted work, but people are welcome\\nto make *verbatim* copies for personal use. People can recuperate the\\nactual costs of printing (paper, copy center charges), but may not charge\\nanything for their time in making copies, or in any way realize a profit\\nfrom the use of this book. See the permissions notice in the book itself\\nfor the precise terms.\\n\\nNegotiations are currently underway with a Mormon publisher vis-a-vis the\\nprinting and distribution of bound books. (Sorry, I\\'m out of the wire-bound\\n\"first editions.\") I will make another announcement about the availability\\nof printed copies once everything has been worked out.\\n\\nFTP information: connect via anonymous ftp to carnot.itc.cmu.edu, then \"cd\\npub\" (you won\\'t see anything at all until you do).\\n\\n\"The Easy-to-Read Book of Mormon\" is currently available in postscript and\\nRTF (rich text format). (ASCII, LaTeX, and other versions can be made\\navailable; contact dba@andrew.cmu.edu for details.) You should be able to\\nprint the postscript file on any postscript printer (such as an Apple\\nLaserwriter); let dba know if you have any difficulties. (The postscript in\\nthe last release had problems on some printers; this time it should work\\nbetter.) RTF is a standard document interchange format that can be read in\\nby a number of word processors, including Microsoft Word for both the\\nMacintosh and Windows."
   ]
  },
  {
   "cell_type": "code",
   "execution_count": 29,
   "metadata": {
    "collapsed": false
   },
   "outputs": [
    {
     "name": "stdout",
     "output_type": "stream",
     "text": [
      "['am', 'any', 'area', 'as', 'be', 'been', 'but', 'bye', 'did', 'do', 'for', 'for', 'from', 'had', 'has', 'have', 'he', 'hello', 'herself', 'hi', 'himself', 'how', 'in', 'in', 'is', 'like', 'many', 'may', 'my', 'not', 'of', 'on', 'once', 'out', 'she', 'some', 'some', 'some', 'such', 'the', 'to', 'via', 'was', 'way', 'we', 'went', 'where', 'who', 'you', 'yourself']\n"
     ]
    }
   ],
   "source": [
    "    stopwords = ['are' 'a', 'the', 'is', \"he\", \"she\", \"you\", \"we\", \"yourself\", \"himself\", \"herself\", \"went\", \n",
    "                 \"like\", \"to\", \"be\", \"hello\", \"hi\", \"bye\", \"am\", \"how\", \"where\", \"who\", \"do\", \"did\", \"not\", \"was\",\n",
    "                \"in\", \"out\", \"have\", \"had\", \"has\", \"such\", \"as\", \"for\", \"on\", \"some\", \"of\", \"my\", \"been\", \"some\",\n",
    "                 \"may\", \"from\", \"way\", \"for\", \"in\", \"via\", \"any\", \"some\", \"many\", \"once\", \"but\"]\n",
    "    stopwords = sorted(stopwords)\n",
    "    print(stopwords)"
   ]
  },
  {
   "cell_type": "code",
   "execution_count": 290,
   "metadata": {
    "collapsed": false
   },
   "outputs": [
    {
     "name": "stdout",
     "output_type": "stream",
     "text": [
      "[re.compile('\\\\b(am)\\x08\\\\s*'), re.compile('\\\\b(any)\\x08\\\\s*'), re.compile('\\\\b(area)\\x08\\\\s*'), re.compile('\\\\b(as)\\x08\\\\s*'), re.compile('\\\\b(be)\\x08\\\\s*'), re.compile('\\\\b(been)\\x08\\\\s*'), re.compile('\\\\b(but)\\x08\\\\s*'), re.compile('\\\\b(bye)\\x08\\\\s*'), re.compile('\\\\b(did)\\x08\\\\s*'), re.compile('\\\\b(do)\\x08\\\\s*'), re.compile('\\\\b(for)\\x08\\\\s*'), re.compile('\\\\b(for)\\x08\\\\s*'), re.compile('\\\\b(from)\\x08\\\\s*'), re.compile('\\\\b(had)\\x08\\\\s*'), re.compile('\\\\b(has)\\x08\\\\s*'), re.compile('\\\\b(have)\\x08\\\\s*'), re.compile('\\\\b(he)\\x08\\\\s*'), re.compile('\\\\b(hello)\\x08\\\\s*'), re.compile('\\\\b(herself)\\x08\\\\s*'), re.compile('\\\\b(hi)\\x08\\\\s*'), re.compile('\\\\b(himself)\\x08\\\\s*'), re.compile('\\\\b(how)\\x08\\\\s*'), re.compile('\\\\b(in)\\x08\\\\s*'), re.compile('\\\\b(in)\\x08\\\\s*'), re.compile('\\\\b(is)\\x08\\\\s*'), re.compile('\\\\b(like)\\x08\\\\s*'), re.compile('\\\\b(many)\\x08\\\\s*'), re.compile('\\\\b(may)\\x08\\\\s*'), re.compile('\\\\b(my)\\x08\\\\s*'), re.compile('\\\\b(not)\\x08\\\\s*'), re.compile('\\\\b(of)\\x08\\\\s*'), re.compile('\\\\b(on)\\x08\\\\s*'), re.compile('\\\\b(once)\\x08\\\\s*'), re.compile('\\\\b(out)\\x08\\\\s*'), re.compile('\\\\b(she)\\x08\\\\s*'), re.compile('\\\\b(some)\\x08\\\\s*'), re.compile('\\\\b(some)\\x08\\\\s*'), re.compile('\\\\b(some)\\x08\\\\s*'), re.compile('\\\\b(such)\\x08\\\\s*'), re.compile('\\\\b(the)\\x08\\\\s*'), re.compile('\\\\b(to)\\x08\\\\s*'), re.compile('\\\\b(via)\\x08\\\\s*'), re.compile('\\\\b(was)\\x08\\\\s*'), re.compile('\\\\b(way)\\x08\\\\s*'), re.compile('\\\\b(we)\\x08\\\\s*'), re.compile('\\\\b(went)\\x08\\\\s*'), re.compile('\\\\b(where)\\x08\\\\s*'), re.compile('\\\\b(who)\\x08\\\\s*'), re.compile('\\\\b(you)\\x08\\\\s*'), re.compile('\\\\b(yourself)\\x08\\\\s*'), re.compile('\\\\b(am|any|area|as|be|been|but|bye|did|do|for|for|from|had|has|have|he|hello|herself|hi|himself|how|in|in|is|like|many|may|my|not|of|on|once|out|she|some|some|some|such|the|to|via|was|way|we|went|whe, re.IGNORECASE), re.compile('\\\\b(am|any|area|as|be|been|but|bye|did|do|for|for|from|had|has|have|he|hello|herself|hi|himself|how|in|in|is|like|many|may|my|not|of|on|once|out|she|some|some|some|such|the|to|via|was|way|we|went|whe, re.IGNORECASE)]\n"
     ]
    }
   ],
   "source": [
    "    import re\n",
    "    REMOVE_LIST = ['am', 'any', 'area', 'as', 'be', 'been', 'but', 'bye', 'did', 'do', 'for', 'for', 'from', \n",
    "                 'had', 'has', 'have', 'he', 'hello', 'herself', 'hi', 'himself', 'how', 'in', 'in', 'is', 'like', \n",
    "                 'many', 'may', 'my', 'not', 'of', 'on', 'once', 'out', 'she', 'some', 'some', 'some', 'such', 'the', \n",
    "                 'to', 'via', 'was', 'way', 'we', 'went', 'where', 'who', 'you', 'yourself']\n",
    "    \n",
    "    remove = '|'.join(REMOVE_LIST)\n",
    "#    chunk_size = 1  # can tweak depending on size\n",
    "#    for i in range(len(stopwords)):\n",
    "#        pattern = R'\\b(' + stopwords[i]+ ')\\b\\s*'\n",
    "    pattern = re.compile(r'\\b('+remove+r')\\b', flags=re.IGNORECASE)\n",
    "    stopwords_regex_list.append(re.compile(pattern))\n",
    "\n",
    "     #   (re.compile(r'\\b(' + r'|'.join(stopwords_slice))+ r')\\b)\n",
    "        \n",
    "    print(stopwords_regex_list)"
   ]
  },
  {
   "cell_type": "code",
   "execution_count": 83,
   "metadata": {
    "collapsed": false
   },
   "outputs": [
    {
     "name": "stdout",
     "output_type": "stream",
     "text": [
      "you are my favorite went any where some sarah\n"
     ]
    }
   ],
   "source": [
    "source = \"you are my favorite went any where some sarah\"\n",
    "\n",
    "for regex in stopwords_regex_list:\n",
    "    words = regex.sub('', source)\n",
    "\n",
    "print(words)"
   ]
  },
  {
   "cell_type": "code",
   "execution_count": null,
   "metadata": {
    "collapsed": false
   },
   "outputs": [],
   "source": [
    "\n",
    "source =\"aaabbbcccddddeefffgggg\"\n",
    "compiled_pattern10 = re.compile(r'[bcdfghjklmnpqrstvwxyz]{4,}')\n",
    "x  = compiled_pattern10.sub('', source)\n",
    "print(x)"
   ]
  },
  {
   "cell_type": "code",
   "execution_count": null,
   "metadata": {
    "collapsed": false
   },
   "outputs": [],
   "source": [
    "print(count_vector_5.get_feature_names())"
   ]
  },
  {
   "cell_type": "code",
   "execution_count": null,
   "metadata": {
    "collapsed": false
   },
   "outputs": [],
   "source": [
    "#def empty_preprocessor(s):\n",
    "#    return s\n",
    "\n",
    "#def better_preprocessor(s):\n",
    "import re\n",
    "#import nltk\n",
    "#nltk.download()\n",
    "\n",
    "def processor(source):\n",
    "    \n",
    "    from nltk.tokenize import sent_tokenize, word_tokenize\n",
    "\n",
    "    \n",
    "    lower = lambda x: x.group().lower()\n",
    "    \n",
    "    compiled_pattern1 = re.compile(r'([A-Z])(.*)')\n",
    "    compiled_pattern2 = re.compile(r'\\'s*')\n",
    "    compiled_pattern3 = re.compile(r'\\'re*')\n",
    "    compiled_pattern4 = re.compile(r'[#@!$%^.!?&*_()/<>-]+')\n",
    "    compiled_pattern5 = re.compile(r'[0-9]{2,}')\n",
    "    compiled_pattern6 = re.compile(r'([0-9]+)([a-z]+)')\n",
    "    compiled_pattern7 = re.compile(r'([a-z]+)([0-9]+)')\n",
    "    compiled_pattern8 = re.compile(r'\\b\\w{15,}\\b')\n",
    "    compiled_pattern9 = re.compile(r'\\b(\\w+)( \\1\\b)+')\n",
    "    compiled_pattern10 = re.compile(r'(.)\\1{3,}')\n",
    "    compiled_pattern11 = re.compile(r'[bcdfghjklmnpqrstvwxyz]{4,}')\n",
    "\n",
    "    source_1 = compiled_pattern1.sub(lower, source)\n",
    "    source_2 = compiled_pattern2.sub(' is', source_1)\n",
    "    source_3 = compiled_pattern3.sub(' are', source_2)\n",
    "    source_4 = compiled_pattern4.sub('', source_3)\n",
    "    source_5 = compiled_pattern5.sub('', source_4)\n",
    "    source_6 = compiled_pattern6.sub(r'\\2', source_5)\n",
    "    source_7 = compiled_pattern7.sub(r'\\1', source_6)\n",
    "    source_8 = compiled_pattern8.sub('', source_7)\n",
    "    source_9 = compiled_pattern9.sub(r'\\1', source_8)\n",
    "    source_10 = compiled_pattern10.sub(r'\\1', source_9)\n",
    "    source_11 = compiled_pattern11.sub('', source_10)\n",
    "    source_12 = word_tokenize(source_11)\n",
    "    \n",
    "    return source_11\n",
    "\n",
    "count_vector_5 = CountVectorizer(preprocessor = processor)\n",
    "Train_data_counts_5 = count_vector_5.fit_transform(train_data)\n",
    "dev_data_counts = count_vector_5.transform(dev_data)\n",
    "\n",
    "#fit data to logistic regression classifier\n",
    "clf_5 = LogisticRegression(solver = 'newton-cg', C = 0.2).fit(Train_data_counts_5, train_labels)\n",
    "predicted = clf_5.predict(dev_data_counts)\n",
    "\n",
    "##scoring\n",
    "features_5 = count_vector_5.get_feature_names()\n",
    "print(\"the preprocessor reduced # of features by: \",len(features_3c)-len(features_5))\n",
    "score_5 = f1_score(predicted, dev_labels, average='micro')\n",
    "print(\"score improved by \",'{:.2%}'.format(score_5 - score_3c))\n"
   ]
  },
  {
   "cell_type": "markdown",
   "metadata": {},
   "source": [
    "(6) The idea of regularization is to avoid learning very large weights (which are likely to fit the training data, but not generalize well) by adding a penalty to the total size of the learned weights. That is, logistic regression seeks the set of weights that minimizes errors in the training data AND has a small size. The default regularization, L2, computes this size as the sum of the squared weights (see P3, above). L1 regularization computes this size as the sum of the absolute values of the weights. The result is that whereas L2 regularization makes all the weights relatively small, L1 regularization drives lots of the weights to 0, effectively removing unimportant features.\n",
    "\n",
    "Train a logistic regression model using a \"l1\" penalty. Output the number of learned weights that are not equal to zero. How does this compare to the number of non-zero weights you get with \"l2\"? Now, reduce the size of the vocabulary by keeping only those features that have at least one non-zero weight and retrain a model using \"l2\".\n",
    "\n",
    "Make a plot showing accuracy of the re-trained model vs. the vocabulary size you get when pruning unused features by adjusting the C parameter.\n",
    "\n",
    "Note: The gradient descent code that trains the logistic regression model sometimes has trouble converging with extreme settings of the C parameter. Relax the convergence criteria by setting tol=.01 (the default is .0001)."
   ]
  },
  {
   "cell_type": "code",
   "execution_count": 214,
   "metadata": {
    "collapsed": false
   },
   "outputs": [
    {
     "name": "stdout",
     "output_type": "stream",
     "text": [
      "with L1 regularization 68.95%\n",
      "non zero weights under L1 regularization 246\n",
      "with L2 regularization: 70.85%\n",
      "non zero weights under L2 regularization: 12065\n"
     ]
    }
   ],
   "source": [
    "#def P6():\n",
    "\n",
    "count_vector_6 = CountVectorizer(preprocessor = processor)\n",
    "Train_data_counts_6 = count_vector_6.fit_transform(train_data)\n",
    "dev_data_counts_6 = count_vector_6.transform(dev_data)\n",
    "#print(Train_data_counts_6.shape)\n",
    "\n",
    "#fit data to logistic regression classifier using an L1 penalty\n",
    "clf_6 = LogisticRegression(penalty ='l1', C = 0.2, tol = 0.01).fit(Train_data_counts_6, train_labels)\n",
    "predicted = clf_6.predict(dev_data_counts_6)\n",
    "score_6 = f1_score(predicted, dev_labels, average='weighted')\n",
    "print(\"with L1 regularization\",'{:.2%}'.format(score_6))\n",
    "\n",
    "##output # of learned weights not equal to zero\n",
    "weights_6 = np.array(clf_6.coef_)\n",
    "non_zero_wgts = np.sum(np.sum(weights_6, axis = 0)>0)\n",
    "print(\"non zero weights under L1 regularization\",non_zero_wgts)\n",
    "\n",
    "##6a: compare results with an L2 regularization\n",
    "clf_6a = LogisticRegression(solver = 'newton-cg', penalty ='l2', C = 0.2, tol = 0.01).fit(Train_data_counts_6, train_labels)\n",
    "predicted_6a = clf_6a.predict(dev_data_counts_6)\n",
    "\n",
    "score_6a = f1_score(predicted_6a, dev_labels, average='weighted')\n",
    "print(\"with L2 regularization:\",'{:.2%}'.format(score_6a))\n",
    "weights_6a = np.array(clf_6a.coef_)\n",
    "\n",
    "non_zero_wgts_6a = np.sum(np.sum(weights_6a, axis = 0)>0.0)\n",
    "print(\"non zero weights under L2 regularization:\",non_zero_wgts_6a)\n"
   ]
  },
  {
   "cell_type": "code",
   "execution_count": 215,
   "metadata": {
    "collapsed": false
   },
   "outputs": [],
   "source": [
    "##6 part 2\n",
    "##create matrix of the non-zero indices\n",
    "def feature_sel(train, trainlabel, dev, devlabel, C, T):\n",
    "    count_vector_6_2 = CountVectorizer(stop_words=None)\n",
    "    Train_data_counts_6_2 = count_vector_6_2.fit_transform(train)\n",
    "    dev_data_counts = count_vector_6_2.transform(dev)\n",
    "\n",
    "    #fit data to logistic regression classifier using an L1 penalty\n",
    "    clf_6_2 = LogisticRegression(solver = 'liblinear', penalty = 'l1', C = C, tol = T).fit(Train_data_counts_6_2, trainlabel)\n",
    "    predicted = clf_6_2.predict(dev_data_counts)\n",
    "    score_6_2 = f1_score(predicted, devlabel, average='micro')\n",
    "    features= count_vector_6_2.get_feature_names()\n",
    "    weights_6_2 = np.array(clf_6_2.coef_)\n",
    "    new_vocab = trim_vocab(weights_6_2, features)\n",
    "    no_vocab = len(new_vocab)\n",
    "    #print(score_6_2, no_vocab)\n",
    "    #retrain the model with the new subset of vocabulary\n",
    "#    count_vector_6b = CountVectorizer(Vocabulary = new_vocab)\n",
    "    count_vector_6b = CountVectorizer(stop_words=None)\n",
    "    count_vector_6b.fit(new_vocab)\n",
    "    Train_data_counts_6b = count_vector_6b.transform(train)\n",
    "    dev_data_counts = count_vector_6b.transform(dev)\n",
    "\n",
    "    #fit data to logistic regression classifier using an L2 penalty\n",
    "    clf_6b = LogisticRegression(solver = 'newton-cg', penalty = 'l2', C = C, tol = T).fit(Train_data_counts_6b, trainlabel)\n",
    "    predicted = clf_6b.predict(dev_data_counts)\n",
    "    score_6b = f1_score(predicted, devlabel, average='micro')\n",
    "    return score_6b, no_vocab\n",
    "#\n",
    "def trim_vocab(weights, vocab_full):\n",
    "    non_zero_wgts = np.sum(np.sum(weights, axis = 0)>0)\n",
    "    weight_index = np.array(np.where(np.sum(weights, axis = 0)>0)).tolist()\n",
    "    ##create list of subset of vocab with at least one non-zero weight across all classes\n",
    "    vocab_subset = []\n",
    "    for i in weight_index[0]:\n",
    "        vocab_subset.append(vocab_full[i])\n",
    "    return vocab_subset\n",
    "\n"
   ]
  },
  {
   "cell_type": "code",
   "execution_count": 217,
   "metadata": {
    "collapsed": false
   },
   "outputs": [
    {
     "name": "stdout",
     "output_type": "stream",
     "text": [
      "score: 43.20% no vocab words: 6\n",
      "score: 55.33% no vocab words: 38\n",
      "score: 62.28% no vocab words: 76\n",
      "score: 62.72% no vocab words: 101\n",
      "score: 63.91% no vocab words: 145\n",
      "score: 67.90% no vocab words: 247\n",
      "score: 65.09% no vocab words: 345\n",
      "score: 66.12% no vocab words: 408\n",
      "score: 63.46% no vocab words: 478\n",
      "score: 64.94% no vocab words: 559\n",
      "score: 65.83% no vocab words: 611\n",
      "score: 65.09% no vocab words: 628\n",
      "score: 64.79% no vocab words: 694\n",
      "score: 65.83% no vocab words: 687\n"
     ]
    },
    {
     "data": {
      "image/png": "[encoded data removed]",
      "text/plain": [
       "<matplotlib.figure.Figure at 0x11ab9e470>"
      ]
     },
     "metadata": {},
     "output_type": "display_data"
    }
   ],
   "source": [
    "##Make a plot showing accuracy of the re-trained model vs. the vocabulary size you get when pruning unused \n",
    "##features by adjusting the C parameter.\n",
    "T = 0.01\n",
    "C_set = [0.01, 0.03, 0.05, 0.07, 0.1,0.2,0.3,0.4,0.5,0.6,0.7,0.8,0.9,1.0]\n",
    "\n",
    "for i in C_set:\n",
    "    abc = feature_sel(train = train_data, trainlabel = train_labels, dev = dev_data, devlabel = dev_labels, C=i, T=0.01)\n",
    "    print(\"score:\",'{:.2%}'.format(abc[0]), \"no vocab words:\", abc[1])\n",
    "    plt.plot(abc[1], abc[0], 'o', color = 'blue')\n",
    "plt.xlabel(\"Vocabulary size\")\n",
    "plt.ylabel(\"accuracy\")\n",
    "plt.show()\n"
   ]
  },
  {
   "cell_type": "markdown",
   "metadata": {},
   "source": [
    "(7) Use the TfidfVectorizer -- how is this different from the CountVectorizer? Train a logistic regression model with C=100.\n",
    "\n",
    "Make predictions on the dev data and show the top 3 documents where the ratio R is largest, where R is:\n",
    "\n",
    "maximum predicted probability / predicted probability of the correct label\n",
    "\n",
    "What kinds of mistakes is the model making? Suggest a way to address one particular issue that you see."
   ]
  },
  {
   "cell_type": "code",
   "execution_count": 219,
   "metadata": {
    "collapsed": false
   },
   "outputs": [
    {
     "name": "stdout",
     "output_type": "stream",
     "text": [
      "score: 76.33%\n"
     ]
    }
   ],
   "source": [
    "## 7c. part 1: \n",
    "#\"Use the TfidfVectorizer -- how is this different from the CountVectorizer?\"\n",
    "# ANSWER: TfidfVectorizer counts frequencies instead of occurrences to correct for the bias of longer documents have higher \n",
    "# occurrences of certain words.\n",
    "\n",
    "\n",
    "from sklearn.metrics import f1_score\n",
    "from sklearn.feature_extraction.text import TfidfTransformer\n",
    "\n",
    "#instantiate TfidfVectorizer()\n",
    "count_vector_7 = TfidfVectorizer()\n",
    "Train_data_counts_7 = count_vector_7.fit_transform(train_data)\n",
    "dev_data_counts = count_vector_7.transform(dev_data)\n",
    "\n",
    "#fit data to logistic regression classifier\n",
    "clf_7 = LogisticRegression(solver = 'newton-cg', penalty = 'l2', C = 100, tol = 0.01).fit(Train_data_counts_7, train_labels)\n",
    "predicted = clf_7.predict(dev_data_counts)\n",
    "score_7 = f1_score(predicted, dev_labels, average='micro')\n",
    "print(\"score:\",'{:.2%}'.format(score_7))\n"
   ]
  },
  {
   "cell_type": "code",
   "execution_count": 220,
   "metadata": {
    "collapsed": false
   },
   "outputs": [],
   "source": [
    "## calculate predicted probabilties from logistic regression\n",
    "probs = np.array(clf_7.predict_proba(dev_data_counts))\n",
    "\n",
    "## find the max probability of each example and the class of that max probability\n",
    "max_prob = np.max(probs, axis=1)\n",
    "max_prob_index = np.array(np.argmax(probs, axis = 1))\n"
   ]
  },
  {
   "cell_type": "code",
   "execution_count": 221,
   "metadata": {
    "collapsed": false
   },
   "outputs": [],
   "source": [
    "## construct np.array of probabilities of the correct class\n",
    "\n",
    "correct_prob = np.zeros([dev_labels.shape[0],4])\n",
    "correct_prob = correct_prob + 0.00001\n",
    "\n",
    "for i in range(correct_prob.shape[0]):\n",
    "    label = dev_labels[i]\n",
    "    correct_prob[i][label] += 1\n"
   ]
  },
  {
   "cell_type": "code",
   "execution_count": 222,
   "metadata": {
    "collapsed": false
   },
   "outputs": [
    {
     "name": "stdout",
     "output_type": "stream",
     "text": [
      "[215 665 655]\n"
     ]
    }
   ],
   "source": [
    "## construct an np.array that calculates the R ratio of maximum predicted probability\n",
    "## to correct probability\n",
    "R = np.choose(max_prob_index, probs.T)/np.choose(max_prob_index, correct_prob.T)\n",
    "R_max = R.argsort()[-3:][::-1]\n",
    "print(R_max)\n"
   ]
  },
  {
   "cell_type": "markdown",
   "metadata": {},
   "source": [
    "Answer to 7: the examples with the highest R ratio are:\n",
    "1) 215 - which is the classifier ascribes max probability to \"talk.religion.misc\" while the correct probability is \"sci.space\" resulting in an R ratio of 99382.\n",
    "2) 665 - which is the classifier ascribes max probability to \"talk.religion.misc\" while the correct probability is \"sci.space\" resulting in an R ratio of 98001.\n",
    "3) 655 - which is the classifier ascribes max probability to \"alt.atheism\" while the correct probability is \"sci.space\" resulting in an R ratio of 97452. \n",
    "\n",
    "Because T-fidf counts term frequency in an example it can calculate a high weight for a particular for a given label and enough that it will cause the prediction when that feature is preset to always go to that label.  In examples 215 and 665, both make mention of the musical \"The Book of Mormon\" which the classifier classifies as \"religion\" given the word 'Mormon' even though in this case it references a satirical musical. In example 655 the writer makes an offhanded comment with several \"trigger\" words commonly associated with religion - \" (barring the theistic response about the Bible being \\ndivinely inspired which I can\\'t adequately argue)\" and gets classified as atheism even though the bulk of the body has nothing to do with this comment. \n"
   ]
  },
  {
   "cell_type": "code",
   "execution_count": 223,
   "metadata": {
    "collapsed": false
   },
   "outputs": [
    {
     "data": {
      "text/plain": [
       "array([ 'I am pleased to announce that a *revised version* of _The Easy-to-Read Book\\nof Mormon_ (former title: _Mormon\\'s Book_) by Lynn Matthews Anderson is now\\navailable through anonymous ftp (see information below). In addition to the\\nchange in title, the revised ETR BOM has been shortened by several pages\\n(eliminating many extraneous \"that\\'s\" and \"of\\'s\"), and many (minor) errors\\nhave been corrected. This release includes a simplified Joseph Smith Story,\\ntestimonies of the three and eight witnesses, and a \"Words-to-Know\"\\nglossary.\\n\\nAs with the previous announcement, readers are reminded that this is a\\nnot-for-profit endeavor. This is a copyrighted work, but people are welcome\\nto make *verbatim* copies for personal use. People can recuperate the\\nactual costs of printing (paper, copy center charges), but may not charge\\nanything for their time in making copies, or in any way realize a profit\\nfrom the use of this book. See the permissions notice in the book itself\\nfor the precise terms.\\n\\nNegotiations are currently underway with a Mormon publisher vis-a-vis the\\nprinting and distribution of bound books. (Sorry, I\\'m out of the wire-bound\\n\"first editions.\") I will make another announcement about the availability\\nof printed copies once everything has been worked out.\\n\\nFTP information: connect via anonymous ftp to carnot.itc.cmu.edu, then \"cd\\npub\" (you won\\'t see anything at all until you do).\\n\\n\"The Easy-to-Read Book of Mormon\" is currently available in postscript and\\nRTF (rich text format). (ASCII, LaTeX, and other versions can be made\\navailable; contact dba@andrew.cmu.edu for details.) You should be able to\\nprint the postscript file on any postscript printer (such as an Apple\\nLaserwriter); let dba know if you have any difficulties. (The postscript in\\nthe last release had problems on some printers; this time it should work\\nbetter.) RTF is a standard document interchange format that can be read in\\nby a number of word processors, including Microsoft Word for both the\\nMacintosh and Windows. If you don\\'t have a postscript printer, you may be\\nable to use the RTF file to print out a copy of the book.\\n\\n-r--r--r--  1 dba                   1984742 Apr 27 13:12 etrbom.ps\\n-r--r--r--  1 dba                   1209071 Apr 27 13:13 etrbom.rtf\\n\\nFor more information about how this project came about, please refer to my\\narticle in the current issue of _Sunstone_, entitled \"Delighting in\\nPlainness: Issues Surrounding a Simple Modern English Book of Mormon.\"\\n\\nSend all inquiries and comments to:\\n\\n    Lynn Matthews Anderson\\n    5806 Hampton Street\\n    Pittsburgh, PA 15206',\n",
       "       'Can anyone provide me a ftp site where I can obtain a online version\\nof the Book of Mormon. Please email the internet address if possible.',\n",
       "       'In <1ren9a$94q@morrow.stanford.edu> salem@pangea.Stanford.EDU (Bruce Salem) \\n\\n\\n\\nThis brings up another something I have never understood.  I asked this once\\nbefore and got a few interesting responses, but somehow didn\\'t seem satisfied.\\nWhy would the NT NOT be considered a good source.  This might be a \\nliterary/historical question, but when I studied history I always looked for \\nfirsthand original sources to write my papers.  If the topic was on Mr. X, I \\nlooked to see if Mr. X wrote anything about it.  If the topic was on a group, \\nlook for the group, etc.  If the topic is on Mr. X, and Mr. X did not write \\nanything about it, (barring the theistic response about the Bible being \\ndivinely inspired which I can\\'t adequately argue), wouldn\\'t we look for people\\nwho ate, worked, walked, talked, etc. with him?  If someone was at an event \\nwouldn\\'t they be a better \"reporter\" than someone who heard about it second \\nhand?  I guess isn\\'t firsthand better than second hand.  I know, there is bias,\\nand winners writing history, but doesn\\'t the principle of firsthand being best\\nstill apply?\\n\\nMAC\\n--\\n****************************************************************\\n                                                    Michael A. Cobb\\n \"...and I won\\'t raise taxes on the middle     University of Illinois\\n    class to pay for my programs.\"                 Champaign-Urbana\\n          -Bill Clinton 3rd Debate             cobb@alexia.lis.uiuc.edu'], \n",
       "      dtype='<U61278')"
      ]
     },
     "execution_count": 223,
     "metadata": {},
     "output_type": "execute_result"
    }
   ],
   "source": [
    "##print examples with the 3 largest R ratios:\n",
    "np.take(dev_data, R_max)"
   ]
  },
  {
   "cell_type": "markdown",
   "metadata": {},
   "source": [
    "(8) EXTRA CREDIT\n",
    "\n",
    "Try implementing one of your ideas based on your error analysis. Use logistic regression as your underlying model."
   ]
  },
  {
   "cell_type": "code",
   "execution_count": 38,
   "metadata": {
    "collapsed": false
   },
   "outputs": [
    {
     "data": {
      "text/plain": [
       "'I am pleased to announce that a *revised version* of _The Easy-to-Read Book\\nof Mormon_ (former title: _Mormon\\'s Book_) by Lynn Matthews Anderson is now\\navailable through anonymous ftp (see information below). In addition to the\\nchange in title, the revised ETR BOM has been shortened by several pages\\n(eliminating many extraneous \"that\\'s\" and \"of\\'s\"), and many (minor) errors\\nhave been corrected. This release includes a simplified Joseph Smith Story,\\ntestimonies of the three and eight witnesses, and a \"Words-to-Know\"\\nglossary.\\n\\nAs with the previous announcement, readers are reminded that this is a\\nnot-for-profit endeavor. This is a copyrighted work, but people are welcome\\nto make *verbatim* copies for personal use. People can recuperate the\\nactual costs of printing (paper, copy center charges), but may not charge\\nanything for their time in making copies, or in any way realize a profit\\nfrom the use of this book. See the permissions notice in the book itself\\nfor the precise terms.\\n\\nNegotiations are currently underway with a Mormon publisher vis-a-vis the\\nprinting and distribution of bound books. (Sorry, I\\'m out of the wire-bound\\n\"first editions.\") I will make another announcement about the availability\\nof printed copies once everything has been worked out.\\n\\nFTP information: connect via anonymous ftp to carnot.itc.cmu.edu, then \"cd\\npub\" (you won\\'t see anything at all until you do).\\n\\n\"The Easy-to-Read Book of Mormon\" is currently available in postscript and\\nRTF (rich text format). (ASCII, LaTeX, and other versions can be made\\navailable; contact dba@andrew.cmu.edu for details.) You should be able to\\nprint the postscript file on any postscript printer (such as an Apple\\nLaserwriter); let dba know if you have any difficulties. (The postscript in\\nthe last release had problems on some printers; this time it should work\\nbetter.) RTF is a standard document interchange format that can be read in\\nby a number of word processors, including Microsoft Word for both the\\nMacintosh and Windows. If you don\\'t have a postscript printer, you may be\\nable to use the RTF file to print out a copy of the book.\\n\\n-r--r--r--  1 dba                   1984742 Apr 27 13:12 etrbom.ps\\n-r--r--r--  1 dba                   1209071 Apr 27 13:13 etrbom.rtf\\n\\nFor more information about how this project came about, please refer to my\\narticle in the current issue of _Sunstone_, entitled \"Delighting in\\nPlainness: Issues Surrounding a Simple Modern English Book of Mormon.\"\\n\\nSend all inquiries and comments to:\\n\\n    Lynn Matthews Anderson\\n    5806 Hampton Street\\n    Pittsburgh, PA 15206'"
      ]
     },
     "execution_count": 38,
     "metadata": {},
     "output_type": "execute_result"
    }
   ],
   "source": [
    "\n",
    "#215\n",
    "np.take(dev_data, R_max[1])"
   ]
  },
  {
   "cell_type": "code",
   "execution_count": 231,
   "metadata": {
    "collapsed": false
   },
   "outputs": [
    {
     "data": {
      "text/plain": [
       "array([ 0.00290268,  0.98001686,  0.01408811,  0.00299234])"
      ]
     },
     "execution_count": 231,
     "metadata": {},
     "output_type": "execute_result"
    }
   ],
   "source": [
    "probs[665]"
   ]
  },
  {
   "cell_type": "code",
   "execution_count": 232,
   "metadata": {
    "collapsed": false
   },
   "outputs": [
    {
     "data": {
      "text/plain": [
       "array([  1.00000000e-05,   1.00000000e-05,   1.00000000e-05,\n",
       "         1.00001000e+00])"
      ]
     },
     "execution_count": 232,
     "metadata": {},
     "output_type": "execute_result"
    }
   ],
   "source": [
    "correct_prob[665]"
   ]
  },
  {
   "cell_type": "code",
   "execution_count": 234,
   "metadata": {
    "collapsed": false
   },
   "outputs": [
    {
     "data": {
      "text/plain": [
       "98001.686356850478"
      ]
     },
     "execution_count": 234,
     "metadata": {},
     "output_type": "execute_result"
    }
   ],
   "source": [
    "probs[665][1]/correct_prob[665][1]"
   ]
  },
  {
   "cell_type": "code",
   "execution_count": null,
   "metadata": {
    "collapsed": true
   },
   "outputs": [],
   "source": []
  }
 ],
 "metadata": {
  "anaconda-cloud": {},
  "kernelspec": {
   "display_name": "Python [Root]",
   "language": "python",
   "name": "Python [Root]"
  },
  "language_info": {
   "codemirror_mode": {
    "name": "ipython",
    "version": 3
   },
   "file_extension": ".py",
   "mimetype": "text/x-python",
   "name": "python",
   "nbconvert_exporter": "python",
   "pygments_lexer": "ipython3",
   "version": "3.5.2"
  }
 },
 "nbformat": 4,
 "nbformat_minor": 0
}
